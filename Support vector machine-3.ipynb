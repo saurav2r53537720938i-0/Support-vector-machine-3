{
 "cells": [
  {
   "cell_type": "markdown",
   "id": "08ac9395-ee5b-4d25-b16f-a499674e91e0",
   "metadata": {},
   "source": [
    "In this situation a multiple linear regression model would likely be the best choice for predcting house prices based choice for predcting house price based on chartestics like location square footage,and number independent variable such as location square footage and number of bedrooms this model can provide insight into how each indepndent variable house this model can provide insight into how each indpendent variable contributes to the variation in house prices."
   ]
  },
  {
   "cell_type": "markdown",
   "id": "083b00db-8ecf-4bc6-8f15-bef1935bbe6e",
   "metadata": {},
   "source": [
    "If your goal is to predict the actual price of a house as accurately as possible model.Mse directly measure the average squared diffrence between the predicted and actual values providing a clearer indication of the model predctive accuracy especially when dealing with continous variable like house price R-squared on the other hand measure the proportion of variance in dependent variable that is predtictable from indpendent providing as a clear indication of the model predctive accuracy especially when dealing with continous variable like house price R-squared on the other hand measure the proportion of variance in the indpendent variable that is predtiable"
   ]
  },
  {
   "cell_type": "markdown",
   "id": "14b4e545-0284-4dd0-9858-5721bca30419",
   "metadata": {},
   "source": [
    "In a scenraio with a signficant number of outliers the most appropriate regression matrix to use with your FBM model would be a robust regression matrix robust regression techniques such as huber or turkey bisquare are designed to be less senstive to outliers compared to tradtional ordinary least square regression .These techniques downeight the influence of outliers therby providing more robustt paramter estimate and improving the overall performance of the model in the prsence of outliers."
   ]
  },
  {
   "cell_type": "markdown",
   "id": "269a8b21-eea9-417f-af94-1fe84dac440d",
   "metadata": {},
   "source": [
    "In this case since the mse and rmse value are very close it genrally prefable to use the rmse as it provides a more interpretable measure of the error in the same units as the target variable"
   ]
  },
  {
   "cell_type": "markdown",
   "id": "be26f669-ddad-4733-abcb-dc10fc21e6c2",
   "metadata": {},
   "source": [
    "If your goal is to measure how well the model explains the variance in the target variable the most apporprate evluation metric would be the cofficent of determination also known as score this metric provides a"
   ]
  }
 ],
 "metadata": {
  "kernelspec": {
   "display_name": "Python 3 (ipykernel)",
   "language": "python",
   "name": "python3"
  },
  "language_info": {
   "codemirror_mode": {
    "name": "ipython",
    "version": 3
   },
   "file_extension": ".py",
   "mimetype": "text/x-python",
   "name": "python",
   "nbconvert_exporter": "python",
   "pygments_lexer": "ipython3",
   "version": "3.10.8"
  }
 },
 "nbformat": 4,
 "nbformat_minor": 5
}
